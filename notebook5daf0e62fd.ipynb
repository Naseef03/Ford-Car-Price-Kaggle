{
 "cells": [
  {
   "cell_type": "code",
   "execution_count": 1,
   "metadata": {
    "_cell_guid": "0a0b3646-1ba2-4c3a-8980-e3c04c1f716a",
    "_uuid": "2fa8e7f8-12cc-46d1-964b-1b8cef9c3304",
    "execution": {
     "iopub.execute_input": "2021-12-11T14:06:52.087245Z",
     "iopub.status.busy": "2021-12-11T14:06:52.086892Z",
     "iopub.status.idle": "2021-12-11T14:06:52.144427Z",
     "shell.execute_reply": "2021-12-11T14:06:52.14344Z",
     "shell.execute_reply.started": "2021-12-11T14:06:52.087153Z"
    },
    "jupyter": {
     "outputs_hidden": false
    }
   },
   "outputs": [],
   "source": [
    "# This Python 3 environment comes with many helpful analytics libraries installed\n",
    "# It is defined by the kaggle/python Docker image: https://github.com/kaggle/docker-python\n",
    "# For example, here's several helpful packages to load\n",
    "\n",
    "import numpy as np # linear algebra\n",
    "import pandas as pd # data processing, CSV file I/O (e.g. pd.read_csv)\n",
    "\n",
    "# Input data files are available in the read-only \"../input/\" directory\n",
    "# For example, running this (by clicking run or pressing Shift+Enter) will list all files under the input directory\n",
    "\n",
    "import os\n",
    "for dirname, _, filenames in os.walk('/kaggle/input'):\n",
    "    for filename in filenames:\n",
    "        print(os.path.join(dirname, filename))\n",
    "\n",
    "# You can write up to 20GB to the current directory (/kaggle/working/) that gets preserved as output when you create a version using \"Save & Run All\" \n",
    "# You can also write temporary files to /kaggle/temp/, but they won't be saved outside of the current session"
   ]
  },
  {
   "cell_type": "code",
   "execution_count": 2,
   "metadata": {
    "_cell_guid": "27d1f773-b389-43f8-af6f-0d51eec6386c",
    "_uuid": "5c5dd117-a21c-42c0-a67b-08b1b63524bc",
    "execution": {
     "iopub.execute_input": "2021-12-11T14:06:52.146427Z",
     "iopub.status.busy": "2021-12-11T14:06:52.145984Z",
     "iopub.status.idle": "2021-12-11T14:06:53.392064Z",
     "shell.execute_reply": "2021-12-11T14:06:53.391177Z",
     "shell.execute_reply.started": "2021-12-11T14:06:52.146389Z"
    },
    "jupyter": {
     "outputs_hidden": false
    }
   },
   "outputs": [],
   "source": [
    "import matplotlib.pyplot as plt \n",
    "\n",
    "from sklearn.model_selection import train_test_split\n",
    "from sklearn.metrics import accuracy_score\n",
    "\n",
    "from sklearn.linear_model import LinearRegression"
   ]
  },
  {
   "cell_type": "markdown",
   "metadata": {
    "_cell_guid": "c5eeb131-8f4b-41f1-afd8-2d127db2de34",
    "_uuid": "f2a7ef12-f539-45ad-9848-a0fb6a3a9916"
   },
   "source": [
    "## Loading Dataset"
   ]
  },
  {
   "cell_type": "code",
   "execution_count": 3,
   "metadata": {
    "_cell_guid": "70ed5618-82b9-46a7-8c56-706e0e6e519f",
    "_uuid": "b08ce549-f9ac-4c17-b262-7b64c7c86abb",
    "execution": {
     "iopub.execute_input": "2021-12-11T14:06:53.393606Z",
     "iopub.status.busy": "2021-12-11T14:06:53.393357Z",
     "iopub.status.idle": "2021-12-11T14:06:53.466571Z",
     "shell.execute_reply": "2021-12-11T14:06:53.465721Z",
     "shell.execute_reply.started": "2021-12-11T14:06:53.393577Z"
    },
    "jupyter": {
     "outputs_hidden": false
    }
   },
   "outputs": [],
   "source": [
    "data_path = './ford.csv'\n",
    "\n",
    "df = pd.read_csv(data_path)\n",
    "\n",
    "train, test = train_test_split(df, test_size=0.3)"
   ]
  },
  {
   "cell_type": "code",
   "execution_count": 4,
   "metadata": {
    "_cell_guid": "1f11bb59-dc14-4ec9-8db1-a6929571b094",
    "_uuid": "744aed28-d3e6-4c23-a7a8-c83123414e15",
    "execution": {
     "iopub.execute_input": "2021-12-11T14:06:53.469231Z",
     "iopub.status.busy": "2021-12-11T14:06:53.468574Z",
     "iopub.status.idle": "2021-12-11T14:06:53.474481Z",
     "shell.execute_reply": "2021-12-11T14:06:53.473788Z",
     "shell.execute_reply.started": "2021-12-11T14:06:53.469188Z"
    },
    "jupyter": {
     "outputs_hidden": false
    }
   },
   "outputs": [
    {
     "name": "stdout",
     "output_type": "stream",
     "text": [
      "Size of train: (12575, 9)\n",
      "Size of test: (5390, 9)\n"
     ]
    }
   ],
   "source": [
    "print('Size of train:', train.shape)\n",
    "print('Size of test:', test.shape)"
   ]
  },
  {
   "cell_type": "code",
   "execution_count": 5,
   "metadata": {
    "_cell_guid": "d62267da-b0ce-4a39-933c-b221755c4c62",
    "_uuid": "3495d2bc-9f1e-469f-892a-33bd99093e1f",
    "execution": {
     "iopub.execute_input": "2021-12-11T14:06:53.476265Z",
     "iopub.status.busy": "2021-12-11T14:06:53.475455Z",
     "iopub.status.idle": "2021-12-11T14:06:53.505166Z",
     "shell.execute_reply": "2021-12-11T14:06:53.504497Z",
     "shell.execute_reply.started": "2021-12-11T14:06:53.476201Z"
    },
    "jupyter": {
     "outputs_hidden": false
    }
   },
   "outputs": [
    {
     "data": {
      "text/html": [
       "<div>\n",
       "<style scoped>\n",
       "    .dataframe tbody tr th:only-of-type {\n",
       "        vertical-align: middle;\n",
       "    }\n",
       "\n",
       "    .dataframe tbody tr th {\n",
       "        vertical-align: top;\n",
       "    }\n",
       "\n",
       "    .dataframe thead th {\n",
       "        text-align: right;\n",
       "    }\n",
       "</style>\n",
       "<table border=\"1\" class=\"dataframe\">\n",
       "  <thead>\n",
       "    <tr style=\"text-align: right;\">\n",
       "      <th></th>\n",
       "      <th>model</th>\n",
       "      <th>year</th>\n",
       "      <th>price</th>\n",
       "      <th>transmission</th>\n",
       "      <th>mileage</th>\n",
       "      <th>fuelType</th>\n",
       "      <th>tax</th>\n",
       "      <th>mpg</th>\n",
       "      <th>engineSize</th>\n",
       "    </tr>\n",
       "  </thead>\n",
       "  <tbody>\n",
       "    <tr>\n",
       "      <th>1634</th>\n",
       "      <td>Fiesta</td>\n",
       "      <td>2016</td>\n",
       "      <td>7991</td>\n",
       "      <td>Manual</td>\n",
       "      <td>28137</td>\n",
       "      <td>Petrol</td>\n",
       "      <td>125</td>\n",
       "      <td>54.3</td>\n",
       "      <td>1.2</td>\n",
       "    </tr>\n",
       "    <tr>\n",
       "      <th>7076</th>\n",
       "      <td>Fiesta</td>\n",
       "      <td>2017</td>\n",
       "      <td>8999</td>\n",
       "      <td>Manual</td>\n",
       "      <td>29020</td>\n",
       "      <td>Petrol</td>\n",
       "      <td>150</td>\n",
       "      <td>65.7</td>\n",
       "      <td>1.0</td>\n",
       "    </tr>\n",
       "    <tr>\n",
       "      <th>17034</th>\n",
       "      <td>Focus</td>\n",
       "      <td>2013</td>\n",
       "      <td>7495</td>\n",
       "      <td>Manual</td>\n",
       "      <td>51000</td>\n",
       "      <td>Diesel</td>\n",
       "      <td>20</td>\n",
       "      <td>67.3</td>\n",
       "      <td>1.6</td>\n",
       "    </tr>\n",
       "    <tr>\n",
       "      <th>2613</th>\n",
       "      <td>Grand C-MAX</td>\n",
       "      <td>2017</td>\n",
       "      <td>10607</td>\n",
       "      <td>Manual</td>\n",
       "      <td>20366</td>\n",
       "      <td>Petrol</td>\n",
       "      <td>30</td>\n",
       "      <td>54.3</td>\n",
       "      <td>1.0</td>\n",
       "    </tr>\n",
       "    <tr>\n",
       "      <th>4480</th>\n",
       "      <td>Focus</td>\n",
       "      <td>2018</td>\n",
       "      <td>13650</td>\n",
       "      <td>Manual</td>\n",
       "      <td>8761</td>\n",
       "      <td>Petrol</td>\n",
       "      <td>145</td>\n",
       "      <td>57.7</td>\n",
       "      <td>1.0</td>\n",
       "    </tr>\n",
       "  </tbody>\n",
       "</table>\n",
       "</div>"
      ],
      "text/plain": [
       "              model  year  price transmission  mileage fuelType  tax   mpg  \\\n",
       "1634         Fiesta  2016   7991       Manual    28137   Petrol  125  54.3   \n",
       "7076         Fiesta  2017   8999       Manual    29020   Petrol  150  65.7   \n",
       "17034         Focus  2013   7495       Manual    51000   Diesel   20  67.3   \n",
       "2613    Grand C-MAX  2017  10607       Manual    20366   Petrol   30  54.3   \n",
       "4480          Focus  2018  13650       Manual     8761   Petrol  145  57.7   \n",
       "\n",
       "       engineSize  \n",
       "1634          1.2  \n",
       "7076          1.0  \n",
       "17034         1.6  \n",
       "2613          1.0  \n",
       "4480          1.0  "
      ]
     },
     "execution_count": 5,
     "metadata": {},
     "output_type": "execute_result"
    }
   ],
   "source": [
    "train.head()"
   ]
  }
 ],
 "metadata": {
  "kernelspec": {
   "display_name": "Python 3",
   "language": "python",
   "name": "python3"
  },
  "language_info": {
   "codemirror_mode": {
    "name": "ipython",
    "version": 3
   },
   "file_extension": ".py",
   "mimetype": "text/x-python",
   "name": "python",
   "nbconvert_exporter": "python",
   "pygments_lexer": "ipython3",
   "version": "3.8.8"
  }
 },
 "nbformat": 4,
 "nbformat_minor": 4
}
